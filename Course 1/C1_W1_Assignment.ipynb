{
  "nbformat": 4,
  "nbformat_minor": 0,
  "metadata": {
    "colab": {
      "name": "C1_W1_Assignment.ipynb",
      "provenance": [],
      "collapsed_sections": []
    },
    "kernelspec": {
      "name": "python3",
      "display_name": "Python 3"
    },
    "language_info": {
      "name": "python"
    }
  },
  "cells": [
    {
      "cell_type": "code",
      "metadata": {
        "id": "ih1yAdlNBuGQ"
      },
      "source": [
        "#@title Licensed under the Apache License, Version 2.0 (the \"License\");\n",
        "# you may not use this file except in compliance with the License.\n",
        "# You may obtain a copy of the License at\n",
        "#\n",
        "# https://www.apache.org/licenses/LICENSE-2.0\n",
        "#\n",
        "# Unless required by applicable law or agreed to in writing, software\n",
        "# distributed under the License is distributed on an \"AS IS\" BASIS,\n",
        "# WITHOUT WARRANTIES OR CONDITIONS OF ANY KIND, either express or implied.\n",
        "# See the License for the specific language governing permissions and\n",
        "# limitations under the License."
      ],
      "execution_count": 1,
      "outputs": []
    },
    {
      "cell_type": "markdown",
      "metadata": {
        "id": "mw2VBrBcgvGa"
      },
      "source": [
        "In this exercise you'll try to build a neural network that predicts the price of a house according to a simple formula.\n",
        "\n",
        "So, imagine if house pricing was as easy as a house costs 50k + 50k per bedroom, so that a 1 bedroom house costs 100k, a 2 bedroom house costs 150k etc.\n",
        "\n",
        "How would you create a neural network that learns this relationship so that it would predict a 7 bedroom house as costing close to 400k etc.\n",
        "\n",
        "Hint: Your network might work better if you scale the house price down. You don't have to give the answer 400...it might be better to create something that predicts the number 4, and then your answer is in the 'hundreds of thousands' etc.\n",
        "\n",
        "(**Note:** You can run the notebook using TensorFlow 2.5.0)"
      ]
    },
    {
      "cell_type": "code",
      "metadata": {
        "id": "FZnOFI6lBuGS"
      },
      "source": [
        "#!pip install tensorflow==2.5.0"
      ],
      "execution_count": null,
      "outputs": []
    },
    {
      "cell_type": "code",
      "metadata": {
        "id": "PUNO2E6SeURH"
      },
      "source": [
        "import tensorflow as tf\n",
        "import numpy as np\n",
        "from tensorflow import keras"
      ],
      "execution_count": 4,
      "outputs": []
    },
    {
      "cell_type": "code",
      "metadata": {
        "id": "9Nkk2wAKBuGT"
      },
      "source": [
        "# GRADED FUNCTION: house_model\n",
        "def house_model(y_new):\n",
        "    xs = np.array(list(range(1, 10)), dtype=np.float32)\n",
        "    ys = np.array([0.5 + 0.5 * xsi for xsi in xs], dtype=np.float32)\n",
        "    model = tf.keras.Sequential([tf.keras.layers.Dense(1, input_shape=[1,])])\n",
        "    model.compile(optimizer='sgd', loss='mse', metrics=['mse'])\n",
        "    model.fit(xs, ys, epochs=20)\n",
        "    return model.predict(y_new)[0]"
      ],
      "execution_count": 7,
      "outputs": []
    },
    {
      "cell_type": "code",
      "metadata": {
        "id": "0E1Fmlx0BuGT",
        "outputId": "00be44f4-5293-4c4c-934d-919d77f9f2ad",
        "colab": {
          "base_uri": "https://localhost:8080/"
        }
      },
      "source": [
        "prediction = house_model([7.0])\n",
        "print(prediction)"
      ],
      "execution_count": 8,
      "outputs": [
        {
          "output_type": "stream",
          "name": "stdout",
          "text": [
            "Epoch 1/20\n",
            "1/1 [==============================] - 1s 592ms/step - loss: 21.3826 - mse: 21.3826\n",
            "Epoch 2/20\n",
            "1/1 [==============================] - 0s 5ms/step - loss: 2.6564 - mse: 2.6564\n",
            "Epoch 3/20\n",
            "1/1 [==============================] - 0s 5ms/step - loss: 0.3520 - mse: 0.3520\n",
            "Epoch 4/20\n",
            "1/1 [==============================] - 0s 5ms/step - loss: 0.0683 - mse: 0.0683\n",
            "Epoch 5/20\n",
            "1/1 [==============================] - 0s 5ms/step - loss: 0.0332 - mse: 0.0332\n",
            "Epoch 6/20\n",
            "1/1 [==============================] - 0s 5ms/step - loss: 0.0287 - mse: 0.0287\n",
            "Epoch 7/20\n",
            "1/1 [==============================] - 0s 8ms/step - loss: 0.0279 - mse: 0.0279\n",
            "Epoch 8/20\n",
            "1/1 [==============================] - 0s 6ms/step - loss: 0.0276 - mse: 0.0276\n",
            "Epoch 9/20\n",
            "1/1 [==============================] - 0s 7ms/step - loss: 0.0274 - mse: 0.0274\n",
            "Epoch 10/20\n",
            "1/1 [==============================] - 0s 5ms/step - loss: 0.0272 - mse: 0.0272\n",
            "Epoch 11/20\n",
            "1/1 [==============================] - 0s 4ms/step - loss: 0.0269 - mse: 0.0269\n",
            "Epoch 12/20\n",
            "1/1 [==============================] - 0s 7ms/step - loss: 0.0267 - mse: 0.0267\n",
            "Epoch 13/20\n",
            "1/1 [==============================] - 0s 5ms/step - loss: 0.0265 - mse: 0.0265\n",
            "Epoch 14/20\n",
            "1/1 [==============================] - 0s 4ms/step - loss: 0.0263 - mse: 0.0263\n",
            "Epoch 15/20\n",
            "1/1 [==============================] - 0s 6ms/step - loss: 0.0261 - mse: 0.0261\n",
            "Epoch 16/20\n",
            "1/1 [==============================] - 0s 5ms/step - loss: 0.0259 - mse: 0.0259\n",
            "Epoch 17/20\n",
            "1/1 [==============================] - 0s 15ms/step - loss: 0.0256 - mse: 0.0256\n",
            "Epoch 18/20\n",
            "1/1 [==============================] - 0s 10ms/step - loss: 0.0254 - mse: 0.0254\n",
            "Epoch 19/20\n",
            "1/1 [==============================] - 0s 14ms/step - loss: 0.0252 - mse: 0.0252\n",
            "Epoch 20/20\n",
            "1/1 [==============================] - 0s 13ms/step - loss: 0.0250 - mse: 0.0250\n",
            "[4.038608]\n"
          ]
        }
      ]
    },
    {
      "cell_type": "code",
      "metadata": {
        "id": "XUVVREM7BuGU"
      },
      "source": [
        ""
      ],
      "execution_count": null,
      "outputs": []
    }
  ]
}