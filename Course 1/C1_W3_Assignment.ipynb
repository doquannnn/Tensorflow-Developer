{
  "nbformat": 4,
  "nbformat_minor": 0,
  "metadata": {
    "colab": {
      "name": "C1_W3_Assignment.ipynb",
      "provenance": [],
      "collapsed_sections": []
    },
    "kernelspec": {
      "display_name": "Python 3",
      "language": "python",
      "name": "python3"
    },
    "language_info": {
      "codemirror_mode": {
        "name": "ipython",
        "version": 3
      },
      "file_extension": ".py",
      "mimetype": "text/x-python",
      "name": "python",
      "nbconvert_exporter": "python",
      "pygments_lexer": "ipython3",
      "version": "3.8.5"
    },
    "accelerator": "GPU"
  },
  "cells": [
    {
      "cell_type": "code",
      "metadata": {
        "id": "zX4Kg8DUTKWO"
      },
      "source": [
        "#@title Licensed under the Apache License, Version 2.0 (the \"License\");\n",
        "# you may not use this file except in compliance with the License.\n",
        "# You may obtain a copy of the License at\n",
        "#\n",
        "# https://www.apache.org/licenses/LICENSE-2.0\n",
        "#\n",
        "# Unless required by applicable law or agreed to in writing, software\n",
        "# distributed under the License is distributed on an \"AS IS\" BASIS,\n",
        "# WITHOUT WARRANTIES OR CONDITIONS OF ANY KIND, either express or implied.\n",
        "# See the License for the specific language governing permissions and\n",
        "# limitations under the License."
      ],
      "execution_count": 10,
      "outputs": []
    },
    {
      "cell_type": "markdown",
      "metadata": {
        "id": "iQjHqsmTAVLU"
      },
      "source": [
        "In the videos you looked at how you would improve Fashion MNIST using Convolutions. For your exercise see if you can improve MNIST to 99.8% accuracy or more using only a single convolutional layer and a single MaxPooling 2D. You should stop training once the accuracy goes above this amount. It should happen in less than 20 epochs, so it's ok to hard code the number of epochs for training, but your training must end once it hits the above metric. If it doesn't, then you'll need to redesign your layers.\n",
        "\n",
        "I've started the code for you -- you need to finish it!\n",
        "\n",
        "When 99.8% accuracy has been hit, you should print out the string \"Reached 99.8% accuracy so cancelling training!\"\n",
        "\n",
        "**Things to Note:**\n",
        "1. When coding the `class myCallback`, Python 3 will run into an error\n",
        "```python\n",
        "TypeError: '>' not supported between instances of 'NoneType' and 'float'\n",
        "```\n",
        "when using the code\n",
        "```python\n",
        "if(logs.get('accuracy')>0.99):\n",
        "```\n",
        "\n",
        "For Python 3, use the following equivalent code line\n",
        "\n",
        "```python\n",
        "if logs.get('accuracy') is not None and logs.get('accuracy') > 0.99:\n",
        "```\n",
        "\n",
        "2. You can run the notebook using TensorFlow 2.5.0"
      ]
    },
    {
      "cell_type": "code",
      "metadata": {
        "id": "Nvz_oKwpFj0d"
      },
      "source": [
        "#!pip install tensorflow==2.5.0"
      ],
      "execution_count": 11,
      "outputs": []
    },
    {
      "cell_type": "code",
      "metadata": {
        "id": "Dqpxwb6UFj0d",
        "colab": {
          "base_uri": "https://localhost:8080/"
        },
        "outputId": "e74bd936-1eb3-4853-e419-dffcc0aff1a5"
      },
      "source": [
        "import tensorflow as tf\n",
        "\n",
        "print(tf.__version__)"
      ],
      "execution_count": 12,
      "outputs": [
        {
          "output_type": "stream",
          "name": "stdout",
          "text": [
            "2.6.0\n"
          ]
        }
      ]
    },
    {
      "cell_type": "code",
      "metadata": {
        "id": "sfQRyaJWAIdg"
      },
      "source": [
        "# GRADED FUNCTION: train_mnist_conv\n",
        "def train_mnist_conv():\n",
        "    # Please write your code only where you are indicated.\n",
        "    # please do not remove model fitting inline comments.\n",
        "\n",
        "    # YOUR CODE STARTS HERE\n",
        "    class myCallback(tf.keras.callbacks.Callback):\n",
        "      def on_epoch_end(self, epoch, logs={}):\n",
        "        if logs.get('acc') is not None and logs.get('acc') > 0.998:\n",
        "          print(\"Reached 99.8% accuracy so cancelling training!\")\n",
        "          self.model.stop_training = True\n",
        "    # YOUR CODE ENDS HERE\n",
        "    callbacks = myCallback()\n",
        "\n",
        "    mnist = tf.keras.datasets.mnist\n",
        "    (training_images, training_labels), (test_images, test_labels) = mnist.load_data()\n",
        "   \n",
        "    # YOUR CODE STARTS HERE\n",
        "    training_images = training_images.reshape(60000, 28, 28, 1) / 255.0\n",
        "    # YOUR CODE ENDS HERE\n",
        "    test_images = test_images.reshape(10000, 28, 28, 1) / 255.0\n",
        "    model = tf.keras.models.Sequential([\n",
        "            tf.keras.layers.Conv2D(64, (3, 3), input_shape=(28, 28, 1), activation='relu'),\n",
        "            tf.keras.layers.MaxPool2D((2, 2)),\n",
        "            tf.keras.layers.Conv2D(128, (3, 3), activation='relu'),\n",
        "            tf.keras.layers.MaxPool2D((2, 2)),\n",
        "            tf.keras.layers.Flatten(),\n",
        "            tf.keras.layers.Dense(128, activation='relu'),\n",
        "            tf.keras.layers.Dense(10, activation='softmax')\n",
        "    ])\n",
        "\n",
        "    model.compile(optimizer='adam', loss='sparse_categorical_crossentropy', metrics=['acc'])\n",
        "    \n",
        "    # model fitting\n",
        "    history = model.fit(training_images, training_labels, callbacks=[callbacks], epochs=19)\n",
        "    # model fitting\n",
        "    \n",
        "    return history.epoch, history.history['acc'][-1]"
      ],
      "execution_count": 22,
      "outputs": []
    },
    {
      "cell_type": "code",
      "metadata": {
        "id": "oVIz0Z-JFj0e",
        "colab": {
          "base_uri": "https://localhost:8080/"
        },
        "outputId": "1272fd22-694a-475f-e7c5-d64da5a40e84"
      },
      "source": [
        "_, _ = train_mnist_conv()"
      ],
      "execution_count": 23,
      "outputs": [
        {
          "output_type": "stream",
          "name": "stdout",
          "text": [
            "Epoch 1/19\n",
            "   1/1875 [..............................] - ETA: 15:50 - loss: 2.3060 - acc: 0.0625WARNING:tensorflow:Callback method `on_train_batch_end` is slow compared to the batch time (batch time: 0.0034s vs `on_train_batch_end` time: 0.0050s). Check your callbacks.\n",
            "1875/1875 [==============================] - 16s 9ms/step - loss: 0.1128 - acc: 0.9654\n",
            "Epoch 2/19\n",
            "1875/1875 [==============================] - 16s 9ms/step - loss: 0.0383 - acc: 0.9876\n",
            "Epoch 3/19\n",
            "1875/1875 [==============================] - 16s 9ms/step - loss: 0.0250 - acc: 0.9918\n",
            "Epoch 4/19\n",
            "1875/1875 [==============================] - 16s 9ms/step - loss: 0.0176 - acc: 0.9944\n",
            "Epoch 5/19\n",
            "1875/1875 [==============================] - 16s 9ms/step - loss: 0.0145 - acc: 0.9951\n",
            "Epoch 6/19\n",
            "1875/1875 [==============================] - 16s 9ms/step - loss: 0.0103 - acc: 0.9968\n",
            "Epoch 7/19\n",
            "1875/1875 [==============================] - 16s 9ms/step - loss: 0.0102 - acc: 0.9966\n",
            "Epoch 8/19\n",
            "1875/1875 [==============================] - 16s 9ms/step - loss: 0.0073 - acc: 0.9973\n",
            "Epoch 9/19\n",
            "1875/1875 [==============================] - 16s 8ms/step - loss: 0.0066 - acc: 0.9978\n",
            "Epoch 10/19\n",
            "1875/1875 [==============================] - 16s 8ms/step - loss: 0.0063 - acc: 0.9979\n",
            "Epoch 11/19\n",
            "1875/1875 [==============================] - 16s 8ms/step - loss: 0.0057 - acc: 0.9983\n",
            "Reached 99.8% accuracy so cancelling training!\n"
          ]
        }
      ]
    },
    {
      "cell_type": "code",
      "metadata": {
        "id": "POKJOSulc8rx"
      },
      "source": [
        "tf.keras.backend.clear_session()"
      ],
      "execution_count": 21,
      "outputs": []
    },
    {
      "cell_type": "code",
      "metadata": {
        "id": "OUCD-3iMqfpN"
      },
      "source": [
        ""
      ],
      "execution_count": null,
      "outputs": []
    }
  ]
}